{
 "cells": [
  {
   "cell_type": "code",
   "execution_count": 1,
   "metadata": {},
   "outputs": [],
   "source": [
    "import numpy as np\n",
    "import matplotlib.pyplot as plt\n",
    "import pandas as pd\n",
    "%matplotlib inline\n",
    "import seaborn as sns\n",
    "import yfinance as yf\n",
    "from sklearn.neighbors import KNeighborsClassifier\n",
    "from sklearn.model_selection import train_test_split, GridSearchCV\n",
    "from sklearn.metrics import auc, f1_score\n",
    "from sklearn.preprocessing import StandardScaler"
   ]
  },
  {
   "cell_type": "code",
   "execution_count": 2,
   "metadata": {},
   "outputs": [],
   "source": [
    "xmr_difficulty = pd.read_csv('./data_phase2/XMR_difficulty.csv')\n",
    "xmr_hash = pd.read_csv('./data_phase2/XMR_hash.csv')"
   ]
  },
  {
   "cell_type": "code",
   "execution_count": 3,
   "metadata": {},
   "outputs": [
    {
     "name": "stdout",
     "output_type": "stream",
     "text": [
      "[*********************100%%**********************]  1 of 1 completed\n"
     ]
    }
   ],
   "source": [
    "xmr = yf.Ticker(\"XMR-USD XMR-BTC XMR-EUR XMR-CNY\")\n",
    "df = yf.download(tickers = \"XMR-USD\",\n",
    "                     period = \"max\",\n",
    "                     interval = \"1d\")\n",
    "df.reset_index(inplace=True)\n",
    "# df.drop(columns=['Adj Close'], inplace=True)"
   ]
  },
  {
   "cell_type": "code",
   "execution_count": 4,
   "metadata": {},
   "outputs": [],
   "source": [
    "### Add Target vector as a separate column to dataframe for later reference\n",
    "### This is Target Vector\n",
    "df['Price_Direction'] = np.where(df['Close'].shift(-1) > df['Close'], 1, 0)"
   ]
  },
  {
   "cell_type": "code",
   "execution_count": 5,
   "metadata": {},
   "outputs": [
    {
     "data": {
      "text/html": [
       "<div>\n",
       "<style scoped>\n",
       "    .dataframe tbody tr th:only-of-type {\n",
       "        vertical-align: middle;\n",
       "    }\n",
       "\n",
       "    .dataframe tbody tr th {\n",
       "        vertical-align: top;\n",
       "    }\n",
       "\n",
       "    .dataframe thead th {\n",
       "        text-align: right;\n",
       "    }\n",
       "</style>\n",
       "<table border=\"1\" class=\"dataframe\">\n",
       "  <thead>\n",
       "    <tr style=\"text-align: right;\">\n",
       "      <th></th>\n",
       "      <th>Date</th>\n",
       "      <th>Open</th>\n",
       "      <th>High</th>\n",
       "      <th>Low</th>\n",
       "      <th>Close</th>\n",
       "      <th>Adj Close</th>\n",
       "      <th>Volume</th>\n",
       "      <th>Price_Direction</th>\n",
       "      <th>HighLow</th>\n",
       "      <th>OpenClose</th>\n",
       "    </tr>\n",
       "  </thead>\n",
       "  <tbody>\n",
       "    <tr>\n",
       "      <th>0</th>\n",
       "      <td>2017-11-09</td>\n",
       "      <td>112.531998</td>\n",
       "      <td>123.404999</td>\n",
       "      <td>112.219002</td>\n",
       "      <td>120.779999</td>\n",
       "      <td>120.779999</td>\n",
       "      <td>86864600</td>\n",
       "      <td>0</td>\n",
       "      <td>11.185997</td>\n",
       "      <td>-8.248001</td>\n",
       "    </tr>\n",
       "    <tr>\n",
       "      <th>1</th>\n",
       "      <td>2017-11-10</td>\n",
       "      <td>121.344002</td>\n",
       "      <td>121.665001</td>\n",
       "      <td>101.757004</td>\n",
       "      <td>105.585999</td>\n",
       "      <td>105.585999</td>\n",
       "      <td>84614000</td>\n",
       "      <td>1</td>\n",
       "      <td>19.907997</td>\n",
       "      <td>15.758003</td>\n",
       "    </tr>\n",
       "    <tr>\n",
       "      <th>2</th>\n",
       "      <td>2017-11-11</td>\n",
       "      <td>105.750000</td>\n",
       "      <td>127.106003</td>\n",
       "      <td>103.877998</td>\n",
       "      <td>119.615997</td>\n",
       "      <td>119.615997</td>\n",
       "      <td>107708000</td>\n",
       "      <td>1</td>\n",
       "      <td>23.228004</td>\n",
       "      <td>-13.865997</td>\n",
       "    </tr>\n",
       "    <tr>\n",
       "      <th>3</th>\n",
       "      <td>2017-11-12</td>\n",
       "      <td>119.597000</td>\n",
       "      <td>133.675003</td>\n",
       "      <td>110.617996</td>\n",
       "      <td>123.856003</td>\n",
       "      <td>123.856003</td>\n",
       "      <td>144948000</td>\n",
       "      <td>0</td>\n",
       "      <td>23.057007</td>\n",
       "      <td>-4.259003</td>\n",
       "    </tr>\n",
       "    <tr>\n",
       "      <th>4</th>\n",
       "      <td>2017-11-13</td>\n",
       "      <td>128.960007</td>\n",
       "      <td>136.528000</td>\n",
       "      <td>120.921997</td>\n",
       "      <td>123.402000</td>\n",
       "      <td>123.402000</td>\n",
       "      <td>116200000</td>\n",
       "      <td>0</td>\n",
       "      <td>15.606003</td>\n",
       "      <td>5.558006</td>\n",
       "    </tr>\n",
       "    <tr>\n",
       "      <th>...</th>\n",
       "      <td>...</td>\n",
       "      <td>...</td>\n",
       "      <td>...</td>\n",
       "      <td>...</td>\n",
       "      <td>...</td>\n",
       "      <td>...</td>\n",
       "      <td>...</td>\n",
       "      <td>...</td>\n",
       "      <td>...</td>\n",
       "      <td>...</td>\n",
       "    </tr>\n",
       "    <tr>\n",
       "      <th>2161</th>\n",
       "      <td>2023-10-10</td>\n",
       "      <td>153.790405</td>\n",
       "      <td>154.468155</td>\n",
       "      <td>152.097107</td>\n",
       "      <td>152.215652</td>\n",
       "      <td>152.215652</td>\n",
       "      <td>54504811</td>\n",
       "      <td>1</td>\n",
       "      <td>2.371048</td>\n",
       "      <td>1.574753</td>\n",
       "    </tr>\n",
       "    <tr>\n",
       "      <th>2162</th>\n",
       "      <td>2023-10-11</td>\n",
       "      <td>152.220093</td>\n",
       "      <td>153.929443</td>\n",
       "      <td>150.970428</td>\n",
       "      <td>153.842102</td>\n",
       "      <td>153.842102</td>\n",
       "      <td>61162383</td>\n",
       "      <td>0</td>\n",
       "      <td>2.959015</td>\n",
       "      <td>-1.622009</td>\n",
       "    </tr>\n",
       "    <tr>\n",
       "      <th>2163</th>\n",
       "      <td>2023-10-12</td>\n",
       "      <td>153.852783</td>\n",
       "      <td>154.344238</td>\n",
       "      <td>151.021347</td>\n",
       "      <td>152.341812</td>\n",
       "      <td>152.341812</td>\n",
       "      <td>65445853</td>\n",
       "      <td>1</td>\n",
       "      <td>3.322891</td>\n",
       "      <td>1.510971</td>\n",
       "    </tr>\n",
       "    <tr>\n",
       "      <th>2164</th>\n",
       "      <td>2023-10-13</td>\n",
       "      <td>152.339523</td>\n",
       "      <td>154.368774</td>\n",
       "      <td>151.051971</td>\n",
       "      <td>153.590515</td>\n",
       "      <td>153.590515</td>\n",
       "      <td>51282283</td>\n",
       "      <td>0</td>\n",
       "      <td>3.316803</td>\n",
       "      <td>-1.250992</td>\n",
       "    </tr>\n",
       "    <tr>\n",
       "      <th>2165</th>\n",
       "      <td>2023-10-14</td>\n",
       "      <td>153.659348</td>\n",
       "      <td>154.281006</td>\n",
       "      <td>152.621552</td>\n",
       "      <td>152.720840</td>\n",
       "      <td>152.720840</td>\n",
       "      <td>37599860</td>\n",
       "      <td>0</td>\n",
       "      <td>1.659454</td>\n",
       "      <td>0.938507</td>\n",
       "    </tr>\n",
       "  </tbody>\n",
       "</table>\n",
       "<p>2166 rows × 10 columns</p>\n",
       "</div>"
      ],
      "text/plain": [
       "           Date        Open        High         Low       Close   Adj Close  \\\n",
       "0    2017-11-09  112.531998  123.404999  112.219002  120.779999  120.779999   \n",
       "1    2017-11-10  121.344002  121.665001  101.757004  105.585999  105.585999   \n",
       "2    2017-11-11  105.750000  127.106003  103.877998  119.615997  119.615997   \n",
       "3    2017-11-12  119.597000  133.675003  110.617996  123.856003  123.856003   \n",
       "4    2017-11-13  128.960007  136.528000  120.921997  123.402000  123.402000   \n",
       "...         ...         ...         ...         ...         ...         ...   \n",
       "2161 2023-10-10  153.790405  154.468155  152.097107  152.215652  152.215652   \n",
       "2162 2023-10-11  152.220093  153.929443  150.970428  153.842102  153.842102   \n",
       "2163 2023-10-12  153.852783  154.344238  151.021347  152.341812  152.341812   \n",
       "2164 2023-10-13  152.339523  154.368774  151.051971  153.590515  153.590515   \n",
       "2165 2023-10-14  153.659348  154.281006  152.621552  152.720840  152.720840   \n",
       "\n",
       "         Volume  Price_Direction    HighLow  OpenClose  \n",
       "0      86864600                0  11.185997  -8.248001  \n",
       "1      84614000                1  19.907997  15.758003  \n",
       "2     107708000                1  23.228004 -13.865997  \n",
       "3     144948000                0  23.057007  -4.259003  \n",
       "4     116200000                0  15.606003   5.558006  \n",
       "...         ...              ...        ...        ...  \n",
       "2161   54504811                1   2.371048   1.574753  \n",
       "2162   61162383                0   2.959015  -1.622009  \n",
       "2163   65445853                1   3.322891   1.510971  \n",
       "2164   51282283                0   3.316803  -1.250992  \n",
       "2165   37599860                0   1.659454   0.938507  \n",
       "\n",
       "[2166 rows x 10 columns]"
      ]
     },
     "execution_count": 5,
     "metadata": {},
     "output_type": "execute_result"
    }
   ],
   "source": [
    "df['HighLow'] = df['High'] - df['Low']\n",
    "df['OpenClose'] = df['Open'] - df['Close']\n",
    "df"
   ]
  },
  {
   "cell_type": "code",
   "execution_count": 6,
   "metadata": {},
   "outputs": [
    {
     "data": {
      "text/plain": [
       "Close\n",
       "False    2152\n",
       "True       13\n",
       "Name: count, dtype: int64"
      ]
     },
     "execution_count": 6,
     "metadata": {},
     "output_type": "execute_result"
    }
   ],
   "source": [
    "### Calculate RSI Indicator\n",
    "\n",
    "### First Calculate the difference of each day's price with prior day\n",
    "change = df[\"Close\"].diff()\n",
    "change = change.dropna()\n",
    "\n",
    "### Create two copies of the Closing price Series\n",
    "change_up = change.copy()\n",
    "change_down = change.copy()\n",
    "\n",
    "change_up[change_up<0] = 0\n",
    "change_down[change_down>0] = 0\n",
    "\n",
    "### Verify no mistakes were made\n",
    "change.equals(change_up+change_down)\n",
    "\n",
    "### Calculate the rolling average of average up and average down\n",
    "window_size = 14\n",
    "avg_up = change_up.rolling(window_size).mean()\n",
    "avg_down = change_down.rolling(window_size).mean().abs()\n",
    "\n",
    "### Calculate RSI using its formula\n",
    "rsi = 100 * avg_up / (avg_up + avg_down)\n",
    "\n",
    "### Add RSI index to dataframe\n",
    "df['RSI'] = rsi\n",
    "rsi.isna().value_counts()"
   ]
  },
  {
   "cell_type": "code",
   "execution_count": 16,
   "metadata": {},
   "outputs": [
    {
     "data": {
      "image/png": "[encoded data removed]",
      "text/plain": [
       "<Figure size 640x480 with 1 Axes>"
      ]
     },
     "metadata": {},
     "output_type": "display_data"
    }
   ],
   "source": [
    "### Calculate EMA Indicator\n",
    "\n",
    "ema = df['Close'].ewm(com=0.5).mean()\n",
    "### Add EMA index to dataframe\n",
    "df['EMA'] = ema\n",
    "\n",
    "### Comparison plot b/w stock values & EMA\n",
    "plt.plot(df['Close'], label=\"Stock Values\")\n",
    "plt.plot(ema, label=\"EMA Values\")\n",
    "plt.xlabel(\"Days\")\n",
    "plt.ylabel(\"Price\")\n",
    "plt.legend()\n",
    "plt.show() \n",
    "### We can see that EMA index predicts out stock value (closing price) pretty good."
   ]
  },
  {
   "cell_type": "code",
   "execution_count": 8,
   "metadata": {},
   "outputs": [],
   "source": [
    "### Calculate SMA Indicator\n",
    "\n",
    "### Get the window of series of observations of specified window size \n",
    "window_size = 14\n",
    "windows = df['Close'].rolling(window_size) \n",
    "  \n",
    "### Create a series of simple moving averages of each window \n",
    "sma = windows.mean() \n",
    "\n",
    "### Add SMA index to dataframe\n",
    "df['SMA'] = sma"
   ]
  },
  {
   "cell_type": "code",
   "execution_count": 9,
   "metadata": {},
   "outputs": [],
   "source": [
    "### Calculate MACD Indicator\n",
    "\n",
    "### Get the 26-day EMA of the closing price\n",
    "k = df['Close'].ewm(span=12, adjust=False, min_periods=12).mean()\n",
    "### Get the 12-day EMA of the closing price\n",
    "d = df['Close'].ewm(span=26, adjust=False, min_periods=26).mean()\n",
    "\n",
    "### Subtract the 26-day EMA from the 12-Day EMA to get the MACD\n",
    "macd = k - d\n",
    "\n",
    "### Get the 9-Day EMA of the MACD for the Trigger line\n",
    "### Slow MACD\n",
    "macd_s = macd.ewm(span=9, adjust=False, min_periods=9).mean()\n",
    "\n",
    "### Calculate the difference between the MACD - Trigger for the Convergence/Divergence value\n",
    "macd_h = macd - macd_s\n",
    "\n",
    "### Add MACD new values to the dataframe\n",
    "df['macd'] = macd\n",
    "# df_xmr_usd['macd_h'] = macd_h\n",
    "df['macd_s'] = macd_s"
   ]
  },
  {
   "cell_type": "code",
   "execution_count": 10,
   "metadata": {},
   "outputs": [],
   "source": [
    "### Calculate Bollinger Band Indicator\n",
    "\n",
    "# df = df_xmr_usd[['Close']]\n",
    "\n",
    "# sma = df.rolling(window=20).mean().dropna()\n",
    "# rstd = df.rolling(window=20).std().dropna()\n",
    "\n",
    "# upper_band = sma + 2 * rstd\n",
    "# lower_band = sma - 2 * rstd\n",
    "\n",
    "# upper_band = upper_band.rename(columns={'Close': 'upper_band'})\n",
    "# lower_band = lower_band.rename(columns={'Close': 'lower_band'})\n",
    "# df_xmr_usd = df_xmr_usd.join(upper_band).join(lower_band)\n",
    "# df_xmr_usd.head(50)"
   ]
  },
  {
   "cell_type": "code",
   "execution_count": 11,
   "metadata": {},
   "outputs": [],
   "source": [
    "### Drop NaN values because of the nature of RSI, EMA, SMA and MACD calculations >>> This is normal.\n",
    "df.dropna(inplace=True)\n",
    "### Reset Index\n",
    "df.reset_index(drop=True, inplace=True)\n",
    "\n",
    "### Assign features and target \n",
    "y = df['Price_Direction']\n",
    "X = df.drop(columns=['Price_Direction', 'Date'])"
   ]
  },
  {
   "cell_type": "code",
   "execution_count": 12,
   "metadata": {},
   "outputs": [
    {
     "data": {
      "text/html": [
       "<style>#sk-container-id-1 {color: black;}#sk-container-id-1 pre{padding: 0;}#sk-container-id-1 div.sk-toggleable {background-color: white;}#sk-container-id-1 label.sk-toggleable__label {cursor: pointer;display: block;width: 100%;margin-bottom: 0;padding: 0.3em;box-sizing: border-box;text-align: center;}#sk-container-id-1 label.sk-toggleable__label-arrow:before {content: \"▸\";float: left;margin-right: 0.25em;color: #696969;}#sk-container-id-1 label.sk-toggleable__label-arrow:hover:before {color: black;}#sk-container-id-1 div.sk-estimator:hover label.sk-toggleable__label-arrow:before {color: black;}#sk-container-id-1 div.sk-toggleable__content {max-height: 0;max-width: 0;overflow: hidden;text-align: left;background-color: #f0f8ff;}#sk-container-id-1 div.sk-toggleable__content pre {margin: 0.2em;color: black;border-radius: 0.25em;background-color: #f0f8ff;}#sk-container-id-1 input.sk-toggleable__control:checked~div.sk-toggleable__content {max-height: 200px;max-width: 100%;overflow: auto;}#sk-container-id-1 input.sk-toggleable__control:checked~label.sk-toggleable__label-arrow:before {content: \"▾\";}#sk-container-id-1 div.sk-estimator input.sk-toggleable__control:checked~label.sk-toggleable__label {background-color: #d4ebff;}#sk-container-id-1 div.sk-label input.sk-toggleable__control:checked~label.sk-toggleable__label {background-color: #d4ebff;}#sk-container-id-1 input.sk-hidden--visually {border: 0;clip: rect(1px 1px 1px 1px);clip: rect(1px, 1px, 1px, 1px);height: 1px;margin: -1px;overflow: hidden;padding: 0;position: absolute;width: 1px;}#sk-container-id-1 div.sk-estimator {font-family: monospace;background-color: #f0f8ff;border: 1px dotted black;border-radius: 0.25em;box-sizing: border-box;margin-bottom: 0.5em;}#sk-container-id-1 div.sk-estimator:hover {background-color: #d4ebff;}#sk-container-id-1 div.sk-parallel-item::after {content: \"\";width: 100%;border-bottom: 1px solid gray;flex-grow: 1;}#sk-container-id-1 div.sk-label:hover label.sk-toggleable__label {background-color: #d4ebff;}#sk-container-id-1 div.sk-serial::before {content: \"\";position: absolute;border-left: 1px solid gray;box-sizing: border-box;top: 0;bottom: 0;left: 50%;z-index: 0;}#sk-container-id-1 div.sk-serial {display: flex;flex-direction: column;align-items: center;background-color: white;padding-right: 0.2em;padding-left: 0.2em;position: relative;}#sk-container-id-1 div.sk-item {position: relative;z-index: 1;}#sk-container-id-1 div.sk-parallel {display: flex;align-items: stretch;justify-content: center;background-color: white;position: relative;}#sk-container-id-1 div.sk-item::before, #sk-container-id-1 div.sk-parallel-item::before {content: \"\";position: absolute;border-left: 1px solid gray;box-sizing: border-box;top: 0;bottom: 0;left: 50%;z-index: -1;}#sk-container-id-1 div.sk-parallel-item {display: flex;flex-direction: column;z-index: 1;position: relative;background-color: white;}#sk-container-id-1 div.sk-parallel-item:first-child::after {align-self: flex-end;width: 50%;}#sk-container-id-1 div.sk-parallel-item:last-child::after {align-self: flex-start;width: 50%;}#sk-container-id-1 div.sk-parallel-item:only-child::after {width: 0;}#sk-container-id-1 div.sk-dashed-wrapped {border: 1px dashed gray;margin: 0 0.4em 0.5em 0.4em;box-sizing: border-box;padding-bottom: 0.4em;background-color: white;}#sk-container-id-1 div.sk-label label {font-family: monospace;font-weight: bold;display: inline-block;line-height: 1.2em;}#sk-container-id-1 div.sk-label-container {text-align: center;}#sk-container-id-1 div.sk-container {/* jupyter's `normalize.less` sets `[hidden] { display: none; }` but bootstrap.min.css set `[hidden] { display: none !important; }` so we also need the `!important` here to be able to override the default hidden behavior on the sphinx rendered scikit-learn.org. See: https://github.com/scikit-learn/scikit-learn/issues/21755 */display: inline-block !important;position: relative;}#sk-container-id-1 div.sk-text-repr-fallback {display: none;}</style><div id=\"sk-container-id-1\" class=\"sk-top-container\"><div class=\"sk-text-repr-fallback\"><pre>GridSearchCV(cv=5, estimator=KNeighborsClassifier(),\n",
       "             param_grid={&#x27;n_neighbors&#x27;: range(1, 21)}, scoring=&#x27;f1&#x27;)</pre><b>In a Jupyter environment, please rerun this cell to show the HTML representation or trust the notebook. <br />On GitHub, the HTML representation is unable to render, please try loading this page with nbviewer.org.</b></div><div class=\"sk-container\" hidden><div class=\"sk-item sk-dashed-wrapped\"><div class=\"sk-label-container\"><div class=\"sk-label sk-toggleable\"><input class=\"sk-toggleable__control sk-hidden--visually\" id=\"sk-estimator-id-1\" type=\"checkbox\" ><label for=\"sk-estimator-id-1\" class=\"sk-toggleable__label sk-toggleable__label-arrow\">GridSearchCV</label><div class=\"sk-toggleable__content\"><pre>GridSearchCV(cv=5, estimator=KNeighborsClassifier(),\n",
       "             param_grid={&#x27;n_neighbors&#x27;: range(1, 21)}, scoring=&#x27;f1&#x27;)</pre></div></div></div><div class=\"sk-parallel\"><div class=\"sk-parallel-item\"><div class=\"sk-item\"><div class=\"sk-label-container\"><div class=\"sk-label sk-toggleable\"><input class=\"sk-toggleable__control sk-hidden--visually\" id=\"sk-estimator-id-2\" type=\"checkbox\" ><label for=\"sk-estimator-id-2\" class=\"sk-toggleable__label sk-toggleable__label-arrow\">estimator: KNeighborsClassifier</label><div class=\"sk-toggleable__content\"><pre>KNeighborsClassifier()</pre></div></div></div><div class=\"sk-serial\"><div class=\"sk-item\"><div class=\"sk-estimator sk-toggleable\"><input class=\"sk-toggleable__control sk-hidden--visually\" id=\"sk-estimator-id-3\" type=\"checkbox\" ><label for=\"sk-estimator-id-3\" class=\"sk-toggleable__label sk-toggleable__label-arrow\">KNeighborsClassifier</label><div class=\"sk-toggleable__content\"><pre>KNeighborsClassifier()</pre></div></div></div></div></div></div></div></div></div></div>"
      ],
      "text/plain": [
       "GridSearchCV(cv=5, estimator=KNeighborsClassifier(),\n",
       "             param_grid={'n_neighbors': range(1, 21)}, scoring='f1')"
      ]
     },
     "execution_count": 12,
     "metadata": {},
     "output_type": "execute_result"
    }
   ],
   "source": [
    "### Use Grid Search for optimal K\n",
    "\n",
    "### Feature scaling\n",
    "# scaler = StandardScaler()\n",
    "# X = scaler.fit_transform(X)\n",
    "\n",
    "### Split data into train and validation sets\n",
    "X_train, X_test, y_train, y_test = train_test_split(X, y, test_size=0.2, random_state=42)\n",
    "\n",
    "param_grid = {\n",
    "    'n_neighbors': range(1, 21)  \n",
    "}\n",
    "knn = KNeighborsClassifier()\n",
    "grid_search = GridSearchCV(knn, param_grid, scoring='f1', cv=5)\n",
    "grid_search.fit(X_train, y_train)"
   ]
  },
  {
   "cell_type": "code",
   "execution_count": 13,
   "metadata": {},
   "outputs": [
    {
     "name": "stdout",
     "output_type": "stream",
     "text": [
      "Best n_neighbors(or k) by grid search is : 17\n",
      "\n"
     ]
    },
    {
     "data": {
      "text/html": [
       "<style>#sk-container-id-2 {color: black;}#sk-container-id-2 pre{padding: 0;}#sk-container-id-2 div.sk-toggleable {background-color: white;}#sk-container-id-2 label.sk-toggleable__label {cursor: pointer;display: block;width: 100%;margin-bottom: 0;padding: 0.3em;box-sizing: border-box;text-align: center;}#sk-container-id-2 label.sk-toggleable__label-arrow:before {content: \"▸\";float: left;margin-right: 0.25em;color: #696969;}#sk-container-id-2 label.sk-toggleable__label-arrow:hover:before {color: black;}#sk-container-id-2 div.sk-estimator:hover label.sk-toggleable__label-arrow:before {color: black;}#sk-container-id-2 div.sk-toggleable__content {max-height: 0;max-width: 0;overflow: hidden;text-align: left;background-color: #f0f8ff;}#sk-container-id-2 div.sk-toggleable__content pre {margin: 0.2em;color: black;border-radius: 0.25em;background-color: #f0f8ff;}#sk-container-id-2 input.sk-toggleable__control:checked~div.sk-toggleable__content {max-height: 200px;max-width: 100%;overflow: auto;}#sk-container-id-2 input.sk-toggleable__control:checked~label.sk-toggleable__label-arrow:before {content: \"▾\";}#sk-container-id-2 div.sk-estimator input.sk-toggleable__control:checked~label.sk-toggleable__label {background-color: #d4ebff;}#sk-container-id-2 div.sk-label input.sk-toggleable__control:checked~label.sk-toggleable__label {background-color: #d4ebff;}#sk-container-id-2 input.sk-hidden--visually {border: 0;clip: rect(1px 1px 1px 1px);clip: rect(1px, 1px, 1px, 1px);height: 1px;margin: -1px;overflow: hidden;padding: 0;position: absolute;width: 1px;}#sk-container-id-2 div.sk-estimator {font-family: monospace;background-color: #f0f8ff;border: 1px dotted black;border-radius: 0.25em;box-sizing: border-box;margin-bottom: 0.5em;}#sk-container-id-2 div.sk-estimator:hover {background-color: #d4ebff;}#sk-container-id-2 div.sk-parallel-item::after {content: \"\";width: 100%;border-bottom: 1px solid gray;flex-grow: 1;}#sk-container-id-2 div.sk-label:hover label.sk-toggleable__label {background-color: #d4ebff;}#sk-container-id-2 div.sk-serial::before {content: \"\";position: absolute;border-left: 1px solid gray;box-sizing: border-box;top: 0;bottom: 0;left: 50%;z-index: 0;}#sk-container-id-2 div.sk-serial {display: flex;flex-direction: column;align-items: center;background-color: white;padding-right: 0.2em;padding-left: 0.2em;position: relative;}#sk-container-id-2 div.sk-item {position: relative;z-index: 1;}#sk-container-id-2 div.sk-parallel {display: flex;align-items: stretch;justify-content: center;background-color: white;position: relative;}#sk-container-id-2 div.sk-item::before, #sk-container-id-2 div.sk-parallel-item::before {content: \"\";position: absolute;border-left: 1px solid gray;box-sizing: border-box;top: 0;bottom: 0;left: 50%;z-index: -1;}#sk-container-id-2 div.sk-parallel-item {display: flex;flex-direction: column;z-index: 1;position: relative;background-color: white;}#sk-container-id-2 div.sk-parallel-item:first-child::after {align-self: flex-end;width: 50%;}#sk-container-id-2 div.sk-parallel-item:last-child::after {align-self: flex-start;width: 50%;}#sk-container-id-2 div.sk-parallel-item:only-child::after {width: 0;}#sk-container-id-2 div.sk-dashed-wrapped {border: 1px dashed gray;margin: 0 0.4em 0.5em 0.4em;box-sizing: border-box;padding-bottom: 0.4em;background-color: white;}#sk-container-id-2 div.sk-label label {font-family: monospace;font-weight: bold;display: inline-block;line-height: 1.2em;}#sk-container-id-2 div.sk-label-container {text-align: center;}#sk-container-id-2 div.sk-container {/* jupyter's `normalize.less` sets `[hidden] { display: none; }` but bootstrap.min.css set `[hidden] { display: none !important; }` so we also need the `!important` here to be able to override the default hidden behavior on the sphinx rendered scikit-learn.org. See: https://github.com/scikit-learn/scikit-learn/issues/21755 */display: inline-block !important;position: relative;}#sk-container-id-2 div.sk-text-repr-fallback {display: none;}</style><div id=\"sk-container-id-2\" class=\"sk-top-container\"><div class=\"sk-text-repr-fallback\"><pre>KNeighborsClassifier(n_neighbors=17)</pre><b>In a Jupyter environment, please rerun this cell to show the HTML representation or trust the notebook. <br />On GitHub, the HTML representation is unable to render, please try loading this page with nbviewer.org.</b></div><div class=\"sk-container\" hidden><div class=\"sk-item\"><div class=\"sk-estimator sk-toggleable\"><input class=\"sk-toggleable__control sk-hidden--visually\" id=\"sk-estimator-id-4\" type=\"checkbox\" checked><label for=\"sk-estimator-id-4\" class=\"sk-toggleable__label sk-toggleable__label-arrow\">KNeighborsClassifier</label><div class=\"sk-toggleable__content\"><pre>KNeighborsClassifier(n_neighbors=17)</pre></div></div></div></div></div>"
      ],
      "text/plain": [
       "KNeighborsClassifier(n_neighbors=17)"
      ]
     },
     "execution_count": 13,
     "metadata": {},
     "output_type": "execute_result"
    }
   ],
   "source": [
    "### Create and Train KNeighborsClassifier model \n",
    "best_n_neighbors = grid_search.best_params_['n_neighbors']\n",
    "print(f\"Best n_neighbors(or k) by grid search is : {best_n_neighbors}\\n\")\n",
    "knn = KNeighborsClassifier(n_neighbors=best_n_neighbors)\n",
    "knn.fit(X_train, y_train)"
   ]
  },
  {
   "cell_type": "code",
   "execution_count": 14,
   "metadata": {},
   "outputs": [],
   "source": [
    "y_predict = knn.predict(X_test)"
   ]
  },
  {
   "cell_type": "code",
   "execution_count": 15,
   "metadata": {},
   "outputs": [
    {
     "name": "stdout",
     "output_type": "stream",
     "text": [
      "F1 score : 51.14345114345114\n"
     ]
    }
   ],
   "source": [
    "f1 = f1_score(y_test, y_predict)\n",
    "print(f\"F1 score : {f1 * 100}\")"
   ]
  }
 ],
 "metadata": {
  "kernelspec": {
   "display_name": "quera",
   "language": "python",
   "name": "python3"
  },
  "language_info": {
   "codemirror_mode": {
    "name": "ipython",
    "version": 3
   },
   "file_extension": ".py",
   "mimetype": "text/x-python",
   "name": "python",
   "nbconvert_exporter": "python",
   "pygments_lexer": "ipython3",
   "version": "3.9.18"
  }
 },
 "nbformat": 4,
 "nbformat_minor": 2
}
