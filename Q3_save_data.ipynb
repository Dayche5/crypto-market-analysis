{
 "cells": [
  {
   "cell_type": "code",
   "execution_count": 1,
   "metadata": {},
   "outputs": [],
   "source": [
    "import yfinance as yf"
   ]
  },
  {
   "cell_type": "code",
   "execution_count": 2,
   "metadata": {},
   "outputs": [
    {
     "name": "stdout",
     "output_type": "stream",
     "text": [
      "[*********************100%%**********************]  1 of 1 completed\n"
     ]
    }
   ],
   "source": [
    "### Get XMR-Monero coin data from yfinance module\n",
    "### And save it to its corresponding csv file\n",
    "\n",
    "df_XMR_Monero = yf.download(tickers = \"XMR-USD\",\n",
    "                     period = \"max\",\n",
    "                     interval = \"1d\")\n",
    "df_XMR_Monero.reset_index(inplace=True)\n",
    "df_XMR_Monero.drop(columns=['Adj Close'], inplace=True)\n",
    "df_XMR_Monero.to_csv('./data_phase2/Q3_XMR_data.csv')"
   ]
  },
  {
   "cell_type": "code",
   "execution_count": 3,
   "metadata": {},
   "outputs": [],
   "source": [
    "### Get Gold, Silver and Copper closing prices in our dataframe's date range.\n",
    "### And save it to its corresponding csv file\n",
    "\n",
    "### Define date range\n",
    "start_Date = df_XMR_Monero['Date'].min()\n",
    "end_Date = df_XMR_Monero['Date'].max()\n",
    "\n",
    "def create_csv_metals(tickers: list):\n",
    "    for ticker_dict in tickers:\n",
    "        for metal, ticker in ticker_dict.items(): \n",
    "            p_metal = yf.Ticker(f\"{ticker}\")\n",
    "            p_metal_hist = p_metal.history(start=start_Date, end=end_Date, actions=False)\n",
    "            p_metal_hist.reset_index(inplace=True)\n",
    "            # p_metal_hist['Date'] = p_metal_hist['Date'].dt.tz_convert(pytz.UTC)\n",
    "            p_metal_hist.to_csv(f'./data_phase2/Q3_{metal}_data.csv')\n",
    "\n",
    "\n",
    "metals_tickers = [{'Gold':'GC=F'}, {'Silver':'SI=F'}, {'Copper': 'HG=F'}]\n",
    "create_csv_metals(metals_tickers)"
   ]
  },
  {
   "cell_type": "code",
   "execution_count": 11,
   "metadata": {},
   "outputs": [
    {
     "data": {
      "text/plain": [
       "Timestamp('2017-11-09 00:00:00')"
      ]
     },
     "execution_count": 11,
     "metadata": {},
     "output_type": "execute_result"
    }
   ],
   "source": [
    "import pandas as pd\n",
    "x = pd.to_datetime('2017-11-09 00:00:00')\n",
    "x"
   ]
  },
  {
   "cell_type": "code",
   "execution_count": 16,
   "metadata": {},
   "outputs": [
    {
     "data": {
      "text/plain": [
       "Timestamp('2017-11-09 00:00:00')"
      ]
     },
     "execution_count": 16,
     "metadata": {},
     "output_type": "execute_result"
    }
   ],
   "source": [
    "start_Date"
   ]
  },
  {
   "cell_type": "code",
   "execution_count": 7,
   "metadata": {},
   "outputs": [
    {
     "data": {
      "text/plain": [
       "Timestamp('2023-10-18 00:00:00')"
      ]
     },
     "execution_count": 7,
     "metadata": {},
     "output_type": "execute_result"
    }
   ],
   "source": [
    "end_Date"
   ]
  },
  {
   "cell_type": "code",
   "execution_count": 20,
   "metadata": {},
   "outputs": [
    {
     "data": {
      "text/plain": [
       "120.77999877929688"
      ]
     },
     "execution_count": 20,
     "metadata": {},
     "output_type": "execute_result"
    }
   ],
   "source": [
    "df_test = df_XMR_Monero[df_XMR_Monero['Date'] == start_Date]['Close'][0]\n",
    "df_test"
   ]
  },
  {
   "cell_type": "code",
   "execution_count": 4,
   "metadata": {},
   "outputs": [],
   "source": [
    "### Get other crypto coins data and save to its corresponding csv file\n",
    "### And save it to its corresponding csv file\n",
    "\n",
    "def create_csv_coins(tickers: list):\n",
    "    for ticker_dict in tickers:\n",
    "        for coin_name, ticker in ticker_dict.items():\n",
    "            coin = yf.Ticker(f\"{ticker}\")\n",
    "            coin_hist = coin.history(start=start_Date, end=end_Date, actions=False)\n",
    "            coin_hist.reset_index(inplace=True)\n",
    "            # coin_hist['Date'] = coin_hist['Date'].dt.tz_convert(pytz.UTC)\n",
    "            coin_hist.to_csv(f'./data_phase2/Q3_{coin_name}_data.csv')\n",
    "\n",
    "### Define coins and their tickers\n",
    "coins_tickers = [{'Bitcoin':'BTC-USD'}, {'Etheruem':'ETH-USD'}, {'Tether':'USDT-USD'}, {'Binance Coin':'BNB-USD'}, {'XRP':'XRP-USD'}]\n",
    "create_csv_coins(coins_tickers)"
   ]
  },
  {
   "cell_type": "code",
   "execution_count": 5,
   "metadata": {},
   "outputs": [],
   "source": [
    "### Get 'S&P 500' stock market index\n",
    "### And save it to its corresponding csv file\n",
    "\n",
    "sp = yf.Ticker(\"^GSPC\")\n",
    "sp_hist = sp.history(start=start_Date, end=end_Date, actions=False)\n",
    "sp_hist.reset_index(inplace=True)\n",
    "# sp_hist['Date'] = sp_hist['Date'].dt.tz_convert(pytz.UTC)\n",
    "sp_hist.to_csv(f'./data_phase2/Q3_S&P500_data.csv')"
   ]
  }
 ],
 "metadata": {
  "kernelspec": {
   "display_name": "quera",
   "language": "python",
   "name": "python3"
  },
  "language_info": {
   "codemirror_mode": {
    "name": "ipython",
    "version": 3
   },
   "file_extension": ".py",
   "mimetype": "text/x-python",
   "name": "python",
   "nbconvert_exporter": "python",
   "pygments_lexer": "ipython3",
   "version": "3.9.18"
  }
 },
 "nbformat": 4,
 "nbformat_minor": 2
}
