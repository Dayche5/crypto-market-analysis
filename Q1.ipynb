{
 "cells": [
  {
   "cell_type": "code",
   "execution_count": null,
   "metadata": {},
   "outputs": [],
   "source": [
    "import numpy as np\n",
    "import pandas as pd\n",
    "import matplotlib.pyplot as plt\n",
    "import seaborn as sns\n",
    "import plotly.express as px\n",
    "import plotly.graph_objects as go\n",
    "from sklearn.cluster import KMeans\n",
    "from sklearn.cluster import DBSCAN\n",
    "from sklearn.metrics import silhouette_score\n",
    "import warnings\n",
    "warnings.filterwarnings('ignore')"
   ]
  },
  {
   "cell_type": "code",
   "execution_count": null,
   "metadata": {},
   "outputs": [],
   "source": [
    "DATA_PATH = 'data_phase2/Q1_data.csv'\n",
    "crypto_data = pd.read_csv(DATA_PATH)"
   ]
  },
  {
   "cell_type": "code",
   "execution_count": null,
   "metadata": {},
   "outputs": [],
   "source": [
    "crypto_data.head()"
   ]
  },
  {
   "cell_type": "code",
   "execution_count": null,
   "metadata": {},
   "outputs": [],
   "source": [
    "crypto_data.info()"
   ]
  },
  {
   "cell_type": "code",
   "execution_count": null,
   "metadata": {},
   "outputs": [],
   "source": [
    "crypto_data.describe()"
   ]
  },
  {
   "cell_type": "code",
   "execution_count": null,
   "metadata": {},
   "outputs": [],
   "source": [
    "# Plot Scatter Plot of Market Cap vs. Volume\n",
    "fig = px.scatter(crypto_data, x=\"market_cap\", y=\"volume\", color=\"symbol\")\n",
    "fig.update_layout(\n",
    "    title='Market Cap vs. Volume',\n",
    "    title_x=0.5,\n",
    "    xaxis_title='Market Cap ($)',\n",
    "    yaxis_title='Volume ($)',    \n",
    ")\n",
    "fig.show()"
   ]
  },
  {
   "cell_type": "markdown",
   "metadata": {},
   "source": [
    "<h2 dir=rtl align=right style=\"line-height:200%;font-family:vazir;color:#0099cc\">\n",
    "<font face=\"vazir\" color=\"#0099cc\">\n",
    "بخش اول\n",
    "</font>"
   ]
  },
  {
   "cell_type": "code",
   "execution_count": null,
   "metadata": {},
   "outputs": [],
   "source": [
    "# Run K-Means Clustering (with k = 5) on the dataset using the market cap and volume features\n",
    "kmeans = KMeans(n_clusters=5, init='k-means++', random_state=42)\n",
    "kmeans.fit(crypto_data[['market_cap', 'volume']])\n",
    "crypto_data['cluster_kmeans'] = [f'cluster {label + 1}' for label in kmeans.labels_]"
   ]
  },
  {
   "cell_type": "code",
   "execution_count": null,
   "metadata": {},
   "outputs": [],
   "source": [
    "# Plot Scatter Plot of Market Cap vs. Volume, Clussified by K-Means Clustering (k = 5)\n",
    "fig = go.Figure()\n",
    "for cluster in crypto_data['cluster_kmeans'].sort_values().unique():\n",
    "    fig.add_trace(\n",
    "        go.Scatter(\n",
    "            x=crypto_data[crypto_data['cluster_kmeans'] == cluster]['market_cap'], \n",
    "            y=crypto_data[crypto_data['cluster_kmeans'] == cluster]['volume'],\n",
    "            mode='markers', \n",
    "            name=cluster,\n",
    "            marker=dict(opacity=0.7)))\n",
    "\n",
    "centers = kmeans.cluster_centers_\n",
    "fig.add_trace(go.Scatter(\n",
    "    x=centers[:, 0],\n",
    "    y=centers[:, 1],\n",
    "    mode='markers',\n",
    "    marker=dict(color='Black', size=6, line=dict(color='Black', width=2)),\n",
    "    name='Centers'\n",
    "))\n",
    "\n",
    "fig.update_layout(\n",
    "    title='Market Cap vs. Volume, Clussified by K-Means Clustering (k = 5)',\n",
    "    title_x=0.5,\n",
    "    xaxis_title='Market Cap ($)',\n",
    "    yaxis_title='Volume ($)',    \n",
    ")\n",
    "\n",
    "fig.show()"
   ]
  },
  {
   "cell_type": "markdown",
   "metadata": {},
   "source": [
    "<h2 dir=rtl align=right style=\"line-height:200%;font-family:vazir;color:#0099cc\">\n",
    "<font face=\"vazir\" color=\"#0099cc\">\n",
    "بخش دوم\n",
    "</font>"
   ]
  },
  {
   "cell_type": "code",
   "execution_count": null,
   "metadata": {},
   "outputs": [],
   "source": [
    "# Find the optimal number of clusters using the elbow method\n",
    "wcss = []\n",
    "for k in range(1, 11):\n",
    "    kmeans = KMeans(n_clusters=k, init='k-means++', random_state=42)\n",
    "    kmeans.fit(crypto_data[['market_cap', 'volume']])\n",
    "    wcss.append(kmeans.inertia_)\n",
    "\n",
    "fig = px.line(x=range(1, 11), y=wcss, markers='o')\n",
    "fig.update_layout(\n",
    "    title='Elbow Method',\n",
    "    title_x=0.5,\n",
    "    xaxis_title='Number of Clusters',\n",
    "    yaxis_title='Within-Cluster Sum of Square',    \n",
    ")\n",
    "fig.update_xaxes(nticks=20)"
   ]
  },
  {
   "cell_type": "code",
   "execution_count": null,
   "metadata": {},
   "outputs": [],
   "source": [
    "silhouette_scores = []\n",
    "for k in range(2, 10):\n",
    "    kmeans = KMeans(n_clusters=k, init='k-means++', random_state=42)\n",
    "    cluster_labels = kmeans.fit_predict(crypto_data[['market_cap', 'volume']])  # Replace 'data' with your dataset\n",
    "    silhouette_avg = silhouette_score(crypto_data[['market_cap', 'volume']], cluster_labels)\n",
    "    silhouette_scores.append(silhouette_avg)\n",
    "\n",
    "best_k = silhouette_scores.index(max(silhouette_scores)) + 2\n",
    "print(f'Best k: {best_k}')"
   ]
  },
  {
   "cell_type": "code",
   "execution_count": null,
   "metadata": {},
   "outputs": [],
   "source": [
    "# Run K-Means Clustering again, this time for best k(=4) on the dataset using the market cap and volume features\n",
    "kmeans_best = KMeans(n_clusters=best_k, init='k-means++', random_state=42)\n",
    "kmeans_best.fit(crypto_data[['market_cap', 'volume']])\n",
    "crypto_data['cluster_kmeans (best k)'] = [f'cluster {label + 1}' for label in kmeans_best.labels_]\n",
    "\n",
    "# Plot Scatter Plot of Market Cap vs. Volume, Clussified by K-Means Clustering using best k(= 4)\n",
    "fig = go.Figure()\n",
    "for cluster in crypto_data['cluster_kmeans (best k)'].sort_values().unique():\n",
    "    fig.add_trace(\n",
    "        go.Scatter(\n",
    "            x=crypto_data[crypto_data['cluster_kmeans (best k)'] == cluster]['market_cap'], \n",
    "            y=crypto_data[crypto_data['cluster_kmeans (best k)'] == cluster]['volume'],\n",
    "            mode='markers', \n",
    "            name=cluster,\n",
    "            marker=dict(opacity=0.7)))\n",
    "\n",
    "centers = kmeans_best.cluster_centers_\n",
    "fig.add_trace(go.Scatter(\n",
    "    x=centers[:, 0],\n",
    "    y=centers[:, 1],\n",
    "    mode='markers',\n",
    "    marker=dict(color='Black', size=6, line=dict(color='Black', width=2)),\n",
    "    name='Centers'\n",
    "))\n",
    "\n",
    "fig.update_layout(\n",
    "    title='Market Cap vs. Volume, Clussified by K-Means Clustering, for best k(= 4)',\n",
    "    title_x=0.5,\n",
    "    xaxis_title='Market Cap ($)',\n",
    "    yaxis_title='Volume ($)',    \n",
    ")\n",
    "\n",
    "fig.show()"
   ]
  },
  {
   "cell_type": "markdown",
   "metadata": {},
   "source": [
    "<p dir=rtl style=\"direction: rtl;text-align: center;line-height:200%;font-family:vazir;font-size:medium;color:#0099cc\"><font face=\"vazir\" size=3><i>\n",
    "[تحلیل] برای بدست آوردن مقدار بهینه k از دو روش elbow  و silhouette بهره بردیم. همان طور که در نمودار elbow می توان مشاهده کرد،‌ اگر مقدار k را بزرگتر از ۴ قرار دهیم، تغییر قابل توجهی در مقدار خطای WCSS مشاهده نمی شود؛ بنابراین می توان نتیجه گرفت تعداد خوشه بهینه برای این مجموعه داده برابر با ۴ است و روش sihouette هم در ادامه این تعداد خوشه را تایید می کند. \n",
    "اما باید پرسید «آیا ۴ خوشه برای این مجموعه داده تفسیر پذیر است؟» در نگاه اول این طور به نظر می رسد،‌ چرا که داده های ما اصلا مربوط به ۴ نوع رمزارز هستند.  اما اگر دوباره الگوریتم را با k = 4 اجرا کنیم،‌ مشاهده می کنیم که الگوریتم داده های مربوط به دو رمزارز (BNB و USDT)  را در یک خوشه قرار می دهد و از طرف دیگر، داده های مربوط به رمز ارز بیت کوین را در دو خوشه قرار می دهد. ما ظاهرا،‌ در نگاهی ساده و اولیه، انتظار داشتیم که اصطلاحا الگوریتم داده ها را از مفصل هایش ببرد و داده های  مربوط به هر رمز ارز را در یک خوشه مجزا طبقه بندی کند. باید پرسید اینکه داده های بیت کوین در دو خوشه طبقه بندی می شوند چه تفسیری دارد؟ و این که چرا دو رمز ارز BNB و USDT در یک خوشه قرار می گیرند؟ شاید اگر یک یا چند بعد دیگر از به داده هایمان اضافه کنیم،‌ داده های مربوط به هر رمز ارز دقیقا در یک خوشه طبقه بندی شوند.\n",
    "\n",
    "</i></font></p>"
   ]
  },
  {
   "cell_type": "markdown",
   "metadata": {},
   "source": [
    "<h2 dir=rtl align=right style=\"line-height:200%;font-family:vazir;color:#0099cc\">\n",
    "<font face=\"vazir\" color=\"#0099cc\">\n",
    "بخش سوم\n",
    "</font>"
   ]
  },
  {
   "cell_type": "code",
   "execution_count": null,
   "metadata": {},
   "outputs": [],
   "source": [
    "# Run DBSCAN Clustering on the dataset using the market cap and volume features\n",
    "market_caps_scaled = crypto_data['market_cap'].values / 4\n",
    "volumes = crypto_data['volume'].values\n",
    "dbscan = DBSCAN(eps=0.5e10 + 0.7e9 + 0.5e8, min_samples=4)\n",
    "dbscan.fit(np.stack((market_caps_scaled, volumes), axis=-1))\n",
    "crypto_data['cluster_dbscan'] = [\n",
    "    f'cluster {label + 1}' if label != -1 else 'noise' for label in dbscan.labels_\n",
    "]\n",
    "n_clusters = len(set(dbscan.labels_)) - (1 if -1 in dbscan.labels_ else 0)\n",
    "n_noises = len([label for label in dbscan.labels_ if label == -1])\n",
    "print(f'Number of clusters found: {n_clusters}')\n",
    "\n",
    "print(f'Number of noises found: {n_noises}')"
   ]
  },
  {
   "cell_type": "code",
   "execution_count": null,
   "metadata": {},
   "outputs": [],
   "source": [
    "# Plot Scatter Plot of Market Cap vs. Volume, Clussified by DBSCAN Clustering\n",
    "fig = go.Figure()\n",
    "\n",
    "clusters_colors = px.colors.qualitative.Plotly\n",
    "for i, cluster in enumerate(crypto_data['cluster_dbscan'].unique()):\n",
    "    if cluster == 'noise':\n",
    "        cluster_color = 'red'\n",
    "    else:\n",
    "        cluster_color = clusters_colors[i + 4]\n",
    "    fig.add_trace(\n",
    "        go.Scatter(\n",
    "            x=crypto_data[crypto_data['cluster_dbscan'] == cluster]['market_cap'], \n",
    "            y=crypto_data[crypto_data['cluster_dbscan'] == cluster]['volume'],\n",
    "            mode='markers', \n",
    "            name=cluster,\n",
    "            marker=dict(opacity=0.8, color=cluster_color)))\n",
    "\n",
    "fig.update_layout(\n",
    "    title='Market Cap vs. Volume, Clussified by DBSCAN Clustering',\n",
    "    title_x=0.5,\n",
    "    xaxis_title='Market Cap ($)',\n",
    "    yaxis_title='Volume ($)',    \n",
    ")"
   ]
  },
  {
   "cell_type": "markdown",
   "metadata": {},
   "source": [
    "<p dir=rtl style=\"direction: rtl;text-align: center;line-height:200%;font-family:vazir;font-size:medium;color:#0099cc\"><font face=\"vazir\" size=3><i>\n",
    "[تحلیل]  الگوریتم DBSCAN حساس به دو پارامتر min_samples  و پارامتر eps (شعاع) است و هر چه eps را کوچکتر در نظر بگیریم، خوشه‌های بیشتر و کوچکتری تشکیلی می‌شود. همچنین هر چه قدر min_samples را بزرگ‌تر در نظر بگیریم، احتمال ایجادِ خوشه‌ها، کمتر می‌شود زیرا الگوریتم باید تعداد نمونه‌های بیشتری را در یک شعاع خاص ببینید تا خوشه را تشکیل دهد.\n",
    "</i></font></p>"
   ]
  }
 ],
 "metadata": {
  "kernelspec": {
   "display_name": "ds-quera",
   "language": "python",
   "name": "python3"
  },
  "language_info": {
   "codemirror_mode": {
    "name": "ipython",
    "version": 3
   },
   "file_extension": ".py",
   "mimetype": "text/x-python",
   "name": "python",
   "nbconvert_exporter": "python",
   "pygments_lexer": "ipython3",
   "version": "3.9.17"
  }
 },
 "nbformat": 4,
 "nbformat_minor": 2
}
