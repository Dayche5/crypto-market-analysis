{
 "cells": [
  {
   "cell_type": "code",
   "execution_count": 1,
   "id": "e3889102",
   "metadata": {},
   "outputs": [],
   "source": [
    "##### Descriptive Statistics #####"
   ]
  },
  {
   "cell_type": "code",
   "execution_count": 2,
   "id": "dc411076",
   "metadata": {},
   "outputs": [],
   "source": [
    "# Part 1\n",
    "# TODO: Check the relationship between Market Cap and 24h daily volume of cryptocurrencies"
   ]
  },
  {
   "cell_type": "code",
   "execution_count": 3,
   "id": "ce021e75",
   "metadata": {},
   "outputs": [],
   "source": [
    "# Part 2\n",
    "#TODO: List the top 30 cryptocurrency pairs with the most days of aligned price changes in a recent year"
   ]
  },
  {
   "cell_type": "code",
   "execution_count": 4,
   "id": "c726fe2d",
   "metadata": {},
   "outputs": [],
   "source": [
    "# Part 3\n",
    "# TODO: Plot the 24h daily volume distribution of 'Mineable' cryptocurrencies."
   ]
  },
  {
   "cell_type": "code",
   "execution_count": 5,
   "id": "311c06ba",
   "metadata": {},
   "outputs": [],
   "source": [
    "# Part 4\n",
    "# TODO: Plot the correlation matrix for the price change of the top 16 cryptos in \n",
    "# terms of 24h daily volume"
   ]
  },
  {
   "cell_type": "code",
   "execution_count": null,
   "id": "496a4e73",
   "metadata": {},
   "outputs": [],
   "source": []
  },
  {
   "cell_type": "code",
   "execution_count": null,
   "id": "fe6f9070",
   "metadata": {},
   "outputs": [],
   "source": []
  }
 ],
 "metadata": {
  "kernelspec": {
   "display_name": "Python 3 (ipykernel)",
   "language": "python",
   "name": "python3"
  },
  "language_info": {
   "codemirror_mode": {
    "name": "ipython",
    "version": 3
   },
   "file_extension": ".py",
   "mimetype": "text/x-python",
   "name": "python",
   "nbconvert_exporter": "python",
   "pygments_lexer": "ipython3",
   "version": "3.9.17"
  }
 },
 "nbformat": 4,
 "nbformat_minor": 5
}
