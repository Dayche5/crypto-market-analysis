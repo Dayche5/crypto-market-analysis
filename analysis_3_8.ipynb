{
 "cells": [
  {
   "cell_type": "code",
   "execution_count": 11,
   "metadata": {},
   "outputs": [],
   "source": [
    "import pandas as pd\n",
    "import matplotlib.pyplot as plt\n",
    "import seaborn as sns\n",
    "import transformed_data as td\n",
    "from sqlalchemy import create_engine\n",
    "from sqlalchemy import MetaData\n",
    "from sqlalchemy import inspect\n",
    "from urllib.parse import quote_plus\n",
    "from sqlalchemy import create_engine, MetaData, Table, Column, Integer, String, select\n",
    "import statsmodels.api as sm\n",
    "from scipy import stats\n",
    "from statsmodels.stats.multicomp import pairwise_tukeyhsd\n",
    "from bioinfokit.analys import stat"
   ]
  },
  {
   "cell_type": "code",
   "execution_count": 12,
   "metadata": {},
   "outputs": [],
   "source": [
    "cryptocurrencies_df = td.TransformedData.cryptocurrencies_df.copy()\n",
    "crypto_tag_df = td.TransformedData.crypto_tag_df.copy()\n",
    "tags_df = td.TransformedData.tags_df.copy()\n",
    "crypto_daily_history_df = td.TransformedData.crypto_daily_history_df.copy()"
   ]
  },
  {
   "cell_type": "code",
   "execution_count": 13,
   "metadata": {},
   "outputs": [
    {
     "data": {
      "text/html": [
       "<div>\n",
       "<style scoped>\n",
       "    .dataframe tbody tr th:only-of-type {\n",
       "        vertical-align: middle;\n",
       "    }\n",
       "\n",
       "    .dataframe tbody tr th {\n",
       "        vertical-align: top;\n",
       "    }\n",
       "\n",
       "    .dataframe thead th {\n",
       "        text-align: right;\n",
       "    }\n",
       "</style>\n",
       "<table border=\"1\" class=\"dataframe\">\n",
       "  <thead>\n",
       "    <tr style=\"text-align: right;\">\n",
       "      <th></th>\n",
       "      <th>volume</th>\n",
       "    </tr>\n",
       "  </thead>\n",
       "  <tbody>\n",
       "    <tr>\n",
       "      <th>0</th>\n",
       "      <td>1.068064e+10</td>\n",
       "    </tr>\n",
       "    <tr>\n",
       "      <th>1</th>\n",
       "      <td>8.962525e+09</td>\n",
       "    </tr>\n",
       "    <tr>\n",
       "      <th>2</th>\n",
       "      <td>1.010039e+10</td>\n",
       "    </tr>\n",
       "    <tr>\n",
       "      <th>3</th>\n",
       "      <td>1.720286e+10</td>\n",
       "    </tr>\n",
       "    <tr>\n",
       "      <th>4</th>\n",
       "      <td>2.018100e+10</td>\n",
       "    </tr>\n",
       "    <tr>\n",
       "      <th>...</th>\n",
       "      <td>...</td>\n",
       "    </tr>\n",
       "    <tr>\n",
       "      <th>8367</th>\n",
       "      <td>1.268417e+07</td>\n",
       "    </tr>\n",
       "    <tr>\n",
       "      <th>8368</th>\n",
       "      <td>1.956765e+07</td>\n",
       "    </tr>\n",
       "    <tr>\n",
       "      <th>8369</th>\n",
       "      <td>1.218683e+07</td>\n",
       "    </tr>\n",
       "    <tr>\n",
       "      <th>8370</th>\n",
       "      <td>1.484313e+07</td>\n",
       "    </tr>\n",
       "    <tr>\n",
       "      <th>8371</th>\n",
       "      <td>1.987241e+07</td>\n",
       "    </tr>\n",
       "  </tbody>\n",
       "</table>\n",
       "<p>8372 rows × 1 columns</p>\n",
       "</div>"
      ],
      "text/plain": [
       "            volume\n",
       "0     1.068064e+10\n",
       "1     8.962525e+09\n",
       "2     1.010039e+10\n",
       "3     1.720286e+10\n",
       "4     2.018100e+10\n",
       "...            ...\n",
       "8367  1.268417e+07\n",
       "8368  1.956765e+07\n",
       "8369  1.218683e+07\n",
       "8370  1.484313e+07\n",
       "8371  1.987241e+07\n",
       "\n",
       "[8372 rows x 1 columns]"
      ]
     },
     "execution_count": 13,
     "metadata": {},
     "output_type": "execute_result"
    }
   ],
   "source": [
    "t1 = pd.merge(cryptocurrencies_df, crypto_tag_df, on='crypto_id', how='inner')\n",
    "t2 = pd.merge(t1, tags_df, on='tag_id', how='inner')\n",
    "t3 = t2.loc[t2.tag_name == 'Mineable']\n",
    "t4 = pd.merge(t3, crypto_daily_history_df, on='crypto_id', how='inner')\n",
    "minable_coins_volumes = t4.loc[:, ['volume']]\n",
    "minable_coins_volumes"
   ]
  },
  {
   "cell_type": "markdown",
   "metadata": {},
   "source": [
    "##### Descriptive Statistics, Part 3:\n",
    "    Plot the 24h daily volume distribution of 'Mineable' cryptocurrencies."
   ]
  },
  {
   "cell_type": "code",
   "execution_count": 14,
   "metadata": {},
   "outputs": [],
   "source": [
    "# low volumes\n",
    "low_volumes = minable_coins_volumes.loc[minable_coins_volumes.volume < 2e9, 'volume'].values.tolist()\n",
    "low_volumes = [0] + low_volumes + [2e9]\n",
    "\n",
    "# middle volumes\n",
    "middle_volumes = minable_coins_volumes.loc[(minable_coins_volumes.volume <= 60e9) & (minable_coins_volumes.volume >= 2e9), 'volume'].values.tolist()\n",
    "middle_volumes = [0] + middle_volumes + [60e9]\n",
    "\n",
    "# high volumes\n",
    "high_volumes = minable_coins_volumes.loc[minable_coins_volumes.volume > 60e9, 'volume'].values.tolist()\n",
    "high_volumes = high_volumes"
   ]
  },
  {
   "cell_type": "code",
   "execution_count": 15,
   "metadata": {},
   "outputs": [
    {
     "data": {
      "text/plain": [
       "([<matplotlib.axis.XTick at 0x7f9965c5bbb0>,\n",
       "  <matplotlib.axis.XTick at 0x7f9965c5bb80>,\n",
       "  <matplotlib.axis.XTick at 0x7f9968d85a30>,\n",
       "  <matplotlib.axis.XTick at 0x7f9965c331f0>,\n",
       "  <matplotlib.axis.XTick at 0x7f9965c33340>,\n",
       "  <matplotlib.axis.XTick at 0x7f9965c33a00>],\n",
       " [Text(0.0, 0, '0'),\n",
       "  Text(400000000.0, 0, '0.4B'),\n",
       "  Text(800000000.0, 0, '0.8B'),\n",
       "  Text(1200000000.0, 0, '1.2B'),\n",
       "  Text(1600000000.0, 0, '1.6B'),\n",
       "  Text(2000000000.0, 0, '2B')])"
      ]
     },
     "execution_count": 15,
     "metadata": {},
     "output_type": "execute_result"
    },
    {
     "data": {
      "image/png": "[encoded data removed]",
      "text/plain": [
       "<Figure size 640x480 with 1 Axes>"
      ]
     },
     "metadata": {},
     "output_type": "display_data"
    }
   ],
   "source": [
    "sns.histplot(low_volumes, bins=20, alpha=0.5, kde=True)\n",
    "plt.title('Low volumes')\n",
    "plt.xticks([0, 0.4e9, 0.8e9, 1.2e9, 1.6e9, 2e9], ['0', '0.4B', '0.8B', '1.2B', '1.6B', '2B'])"
   ]
  },
  {
   "cell_type": "code",
   "execution_count": 16,
   "metadata": {},
   "outputs": [
    {
     "data": {
      "text/plain": [
       "Text(0.5, 1.0, 'Middle volumes')"
      ]
     },
     "execution_count": 16,
     "metadata": {},
     "output_type": "execute_result"
    },
    {
     "data": {
      "image/png": "[encoded data removed]",
      "text/plain": [
       "<Figure size 640x480 with 1 Axes>"
      ]
     },
     "metadata": {},
     "output_type": "display_data"
    }
   ],
   "source": [
    "sns.histplot(middle_volumes, bins=10, alpha=0.5, kde=True)\n",
    "plt.xticks([0, 10e9, 20e9, 30e9, 40e9, 50e9, 60e9], ['0', '10B', '20B', '30B', '40B', '50B', '60B'])\n",
    "plt.title('Middle volumes')"
   ]
  },
  {
   "cell_type": "code",
   "execution_count": 17,
   "metadata": {},
   "outputs": [
    {
     "data": {
      "text/plain": [
       "Text(0.5, 1.0, 'High volumes')"
      ]
     },
     "execution_count": 17,
     "metadata": {},
     "output_type": "execute_result"
    },
    {
     "data": {
      "image/png": "[encoded data removed]",
      "text/plain": [
       "<Figure size 640x480 with 1 Axes>"
      ]
     },
     "metadata": {},
     "output_type": "display_data"
    }
   ],
   "source": [
    "sns.histplot(high_volumes, bins=10, alpha=0.5)\n",
    "plt.xticks([60e9, 70e9, 80e9, 90e9, 100e9, 110e9, 120e9], ['60B', '70B', '80B', '90B', '100B', '110B', '120B'])\n",
    "plt.title('High volumes')"
   ]
  },
  {
   "cell_type": "code",
   "execution_count": 18,
   "metadata": {},
   "outputs": [
    {
     "data": {
      "text/html": [
       "<div>\n",
       "<style scoped>\n",
       "    .dataframe tbody tr th:only-of-type {\n",
       "        vertical-align: middle;\n",
       "    }\n",
       "\n",
       "    .dataframe tbody tr th {\n",
       "        vertical-align: top;\n",
       "    }\n",
       "\n",
       "    .dataframe thead th {\n",
       "        text-align: right;\n",
       "    }\n",
       "</style>\n",
       "<table border=\"1\" class=\"dataframe\">\n",
       "  <thead>\n",
       "    <tr style=\"text-align: right;\">\n",
       "      <th></th>\n",
       "      <th>crypto_name</th>\n",
       "      <th>volume</th>\n",
       "    </tr>\n",
       "  </thead>\n",
       "  <tbody>\n",
       "    <tr>\n",
       "      <th>0</th>\n",
       "      <td>Bitcoin</td>\n",
       "      <td>1.068064e+10</td>\n",
       "    </tr>\n",
       "    <tr>\n",
       "      <th>1</th>\n",
       "      <td>Bitcoin</td>\n",
       "      <td>8.962525e+09</td>\n",
       "    </tr>\n",
       "    <tr>\n",
       "      <th>2</th>\n",
       "      <td>Bitcoin</td>\n",
       "      <td>1.010039e+10</td>\n",
       "    </tr>\n",
       "    <tr>\n",
       "      <th>3</th>\n",
       "      <td>Bitcoin</td>\n",
       "      <td>1.720286e+10</td>\n",
       "    </tr>\n",
       "    <tr>\n",
       "      <th>4</th>\n",
       "      <td>Bitcoin</td>\n",
       "      <td>2.018100e+10</td>\n",
       "    </tr>\n",
       "    <tr>\n",
       "      <th>...</th>\n",
       "      <td>...</td>\n",
       "      <td>...</td>\n",
       "    </tr>\n",
       "    <tr>\n",
       "      <th>70368</th>\n",
       "      <td>Amp</td>\n",
       "      <td>4.195519e+06</td>\n",
       "    </tr>\n",
       "    <tr>\n",
       "      <th>70369</th>\n",
       "      <td>Amp</td>\n",
       "      <td>7.100231e+06</td>\n",
       "    </tr>\n",
       "    <tr>\n",
       "      <th>70370</th>\n",
       "      <td>Amp</td>\n",
       "      <td>7.168563e+06</td>\n",
       "    </tr>\n",
       "    <tr>\n",
       "      <th>70371</th>\n",
       "      <td>Amp</td>\n",
       "      <td>6.512543e+06</td>\n",
       "    </tr>\n",
       "    <tr>\n",
       "      <th>70372</th>\n",
       "      <td>Amp</td>\n",
       "      <td>7.139461e+06</td>\n",
       "    </tr>\n",
       "  </tbody>\n",
       "</table>\n",
       "<p>70373 rows × 2 columns</p>\n",
       "</div>"
      ],
      "text/plain": [
       "      crypto_name        volume\n",
       "0         Bitcoin  1.068064e+10\n",
       "1         Bitcoin  8.962525e+09\n",
       "2         Bitcoin  1.010039e+10\n",
       "3         Bitcoin  1.720286e+10\n",
       "4         Bitcoin  2.018100e+10\n",
       "...           ...           ...\n",
       "70368         Amp  4.195519e+06\n",
       "70369         Amp  7.100231e+06\n",
       "70370         Amp  7.168563e+06\n",
       "70371         Amp  6.512543e+06\n",
       "70372         Amp  7.139461e+06\n",
       "\n",
       "[70373 rows x 2 columns]"
      ]
     },
     "execution_count": 18,
     "metadata": {},
     "output_type": "execute_result"
    }
   ],
   "source": [
    "temp_table = pd.merge(cryptocurrencies_df, crypto_daily_history_df, on='crypto_id', how='inner')\n",
    "cryptoname_volume = temp_table.loc[:, ['crypto_name', 'volume']]\n",
    "cryptoname_volume"
   ]
  },
  {
   "cell_type": "markdown",
   "metadata": {},
   "source": [
    "##### Inferential Statistics:\n",
    "    Consider the three currencies 'Bitcoin', 'Ethereum', 'Tether USDt' and check whether the following claim is correct or not?\n",
    "    \"The average daily trading volume of 'Bitcoin', 'Ethereum' and 'Tether USDt' is much higher than the average daily trading volume of other cryptocurrencies.\""
   ]
  },
  {
   "cell_type": "code",
   "execution_count": 19,
   "metadata": {},
   "outputs": [
    {
     "name": "stdout",
     "output_type": "stream",
     "text": [
      "p-value (=4.960064018232957e-230) is far less than alpha (=0.01).\n",
      "Reject the null hypothesis.\n",
      "The average daily trading volume of 'Bitcoin', 'Ethereum' and 'Tether USDt' is significantly much higher than the average daily trading volume of other cryptocurrencies.\n"
     ]
    }
   ],
   "source": [
    "# Perform t-test\n",
    "\n",
    "# H-null: The average daily trading volume of 'Bitcoin', 'Ethereum' and 'Tether USDt' is not much higher than the average daily trading volume of other cryptocurrencies.\"\n",
    "# H-alt: The average daily trading volume of 'Bitcoin', 'Ethereum' and 'Tether USDt' is much higher than the average daily trading volume of other cryptocurrencies.\"\n",
    "\n",
    "# Define Group 1 ('Bitcoin,' 'Ethereum,' and 'Tether USDt')\n",
    "group1 = ['Bitcoin', 'Ethereum', 'Tether USDt']\n",
    "\n",
    "# Filter data for Group 1\n",
    "group1_data = cryptoname_volume.loc[cryptoname_volume['crypto_name'].isin(group1), 'volume']\n",
    "\n",
    "# Filter data for Group 2 (others)\n",
    "group2_data = cryptoname_volume.loc[~cryptoname_volume['volume'].isin(group1), 'volume']\n",
    "\n",
    "# Perform independent t-test\n",
    "t_statistic, p_value = stats.ttest_ind(group1_data, group2_data, equal_var=False)\n",
    "\n",
    "# Define significance level\n",
    "alpha = 0.01\n",
    "\n",
    "# Interpret the results\n",
    "if p_value < alpha:\n",
    "    print(\"p-value (={}) is far less than alpha (={}).\".format(p_value, alpha))\n",
    "    print(\"Reject the null hypothesis.\")\n",
    "    print(\"The average daily trading volume of 'Bitcoin', 'Ethereum' and 'Tether USDt' is significantly much higher than the average daily trading volume of other cryptocurrencies.\")\n",
    "else:\n",
    "    print(\"p-value (={}) is graater than alpha (={}).\".format(p_value, alpha))\n",
    "    print(\"Fail to reject the null hypothesis.\")\n",
    "    print(\"No significant difference in average daily trading volume of 'Bitcoin', 'Ethereum' and 'Tether USDt' and average daily trading volume of other cryptocurrencies.\")\n"
   ]
  },
  {
   "cell_type": "markdown",
   "metadata": {},
   "source": [
    "##### Conlusion:\n",
    "    p-value (=4.960064018232957e-230) is far less than alpha (=0.01) so,\n",
    "    The average daily trading volume of 'Bitcoin', 'Ethereum' and 'Tether USDt' is significantly much higher than the average daily trading volume of other cryptocurrencies.\n"
   ]
  },
  {
   "cell_type": "code",
   "execution_count": 20,
   "metadata": {},
   "outputs": [
    {
     "name": "stdout",
     "output_type": "stream",
     "text": [
      "Reject the null hypothesis.\n",
      "At least one group has a different mean daily trading volume.\n",
      "*******************************************************\n",
      "Performing multiple pairwise comparison (Tukey's HSD): \n",
      "          group1             group2  p-value  reject\n",
      "0        Bitcoin           Ethereum    0.001    True\n",
      "1        Bitcoin        Tether USDt    0.001    True\n",
      "2        Bitcoin                BNB    0.001    True\n",
      "3        Bitcoin                XRP    0.001    True\n",
      "4        Bitcoin           USD Coin    0.001    True\n",
      "..           ...                ...      ...     ...\n",
      "589  Tether USDt           PlayDapp    0.001    True\n",
      "590  Tether USDt      Pundi X (New)    0.001    True\n",
      "591  Tether USDt  Vulcan Forged PYR    0.001    True\n",
      "592  Tether USDt             Status    0.001    True\n",
      "593  Tether USDt                Amp    0.001    True\n",
      "\n",
      "[594 rows x 4 columns]\n",
      "Conclusion:\n",
      "1. The average daily trading volume of 'Bitcoin' is significantly far higher than the average daily trading volume of any other cryptocurrencies.\n",
      "2. The average daily trading volume of 'Ethereum' is significantly far higher than the average daily trading volume of any other cryptocurrencies.\n",
      "3. The average daily trading volume of 'Tether USDt' is significantly far higher than the average daily trading volume of any other cryptocurrencies.\n"
     ]
    }
   ],
   "source": [
    "import warnings\n",
    "warnings.filterwarnings(\"ignore\")\n",
    "\n",
    "\n",
    "# Perform one-way ANOVA\n",
    "\n",
    "# H-null: All groups have the same mean daily trading volume\n",
    "# H-alt: At least one group has a different mean daily trading volume\n",
    "\n",
    "model = sm.formula.ols('volume ~ crypto_name', data=cryptoname_volume).fit()\n",
    "anova_table = sm.stats.anova_lm(model, typ=2)\n",
    "\n",
    "# Define significance level\n",
    "alpha = 0.01\n",
    "\n",
    "# Interpret the results\n",
    "if anova_table['PR(>F)'][0] < alpha:\n",
    "    print(\"Reject the null hypothesis.\")\n",
    "    print(\"At least one group has a different mean daily trading volume.\")\n",
    "    \n",
    "    # Perform multiple pairwise comparison (Tukey's HSD)\n",
    "    print(\"*******************************************************\")\n",
    "    print(\"Performing multiple pairwise comparison (Tukey's HSD): \")\n",
    "    res = stat()\n",
    "    res.tukey_hsd(df=cryptoname_volume, res_var='volume', xfac_var='crypto_name', anova_model='volume ~ crypto_name')\n",
    "    pairwise_talbe = res.tukey_summary.loc[\n",
    "        (res.tukey_summary.group1 == 'Bitcoin') | \n",
    "        (res.tukey_summary.group1 == 'Ethereum') | \n",
    "        (res.tukey_summary.group1 == 'Tether USDt'),\n",
    "        ['group1', 'group2', 'p-value']\n",
    "    ]\n",
    "    \n",
    "    pairwise_talbe['reject'] = pairwise_talbe.loc[:, 'p-value'] < alpha\n",
    "    print(pairwise_talbe)\n",
    "    \n",
    "    if pairwise_talbe['reject'].all():    \n",
    "        print(\n",
    "            \"Conclusion:\", \n",
    "                    \"1. The average daily trading volume of 'Bitcoin' is significantly far higher than the average daily trading volume of any other cryptocurrencies.\",\n",
    "                    \"2. The average daily trading volume of 'Ethereum' is significantly far higher than the average daily trading volume of any other cryptocurrencies.\", \n",
    "                    \"3. The average daily trading volume of 'Tether USDt' is significantly far higher than the average daily trading volume of any other cryptocurrencies.\",\n",
    "                    sep=\"\\n\"\n",
    "        )\n",
    "    \n",
    "else:\n",
    "    print(\"Fail to reject the null hypothesis.\")\n",
    "    print(\"No significant difference in average daily trading volume among groups.\")\n"
   ]
  },
  {
   "cell_type": "markdown",
   "metadata": {},
   "source": [
    "##### Conlusion:\n",
    "1. The average daily trading volume of 'Bitcoin' is significantly far higher than the average daily trading volume of any other cryptocurrencies.\n",
    "\n",
    "2. The average daily trading volume of 'Ethereum' is significantly far higher than the average daily trading volume of any other cryptocurrencies.\n",
    "\n",
    "3. The average daily trading volume of 'Tether USDt' is significantly far higher than the average daily trading volume of any other cryptocurrencies."
   ]
  },
  {
   "cell_type": "markdown",
   "metadata": {},
   "source": []
  }
 ],
 "metadata": {
  "kernelspec": {
   "display_name": "ds-quera",
   "language": "python",
   "name": "python3"
  },
  "language_info": {
   "codemirror_mode": {
    "name": "ipython",
    "version": 3
   },
   "file_extension": ".py",
   "mimetype": "text/x-python",
   "name": "python",
   "nbconvert_exporter": "python",
   "pygments_lexer": "ipython3",
   "version": "3.9.17"
  },
  "orig_nbformat": 4
 },
 "nbformat": 4,
 "nbformat_minor": 2
}
